{
 "cells": [
  {
   "cell_type": "markdown",
   "metadata": {
    "collapsed": true
   },
   "source": [
    "# HW - 4 Assignment 3"
   ]
  },
  {
   "cell_type": "code",
   "execution_count": 1,
   "metadata": {
    "collapsed": false,
    "scrolled": true
   },
   "outputs": [
    {
     "name": "stdout",
     "output_type": "stream",
     "text": [
      "Populating the interactive namespace from numpy and matplotlib\n"
     ]
    }
   ],
   "source": [
    "import pylab as pl\n",
    "import pandas as pd\n",
    "import numpy as np\n",
    "%pylab inline\n",
    "\n",
    "import os\n",
    "import scipy.stats"
   ]
  },
  {
   "cell_type": "code",
   "execution_count": 2,
   "metadata": {
    "collapsed": false,
    "scrolled": false
   },
   "outputs": [],
   "source": [
    "#Jan, Feb for winter\n",
    "winter1 = pd.read_csv(os.getenv ('PUI2015')+'/PUI2015_MMajumdar/HW4/201501-citibike-tripdata.csv')\n",
    "winter2 = pd.read_csv(os.getenv ('PUI2015')+'/PUI2015_MMajumdar/HW4/201502-citibike-tripdata.csv')\n",
    "#June, July for summer\n",
    "summer1 = pd.read_csv(os.getenv ('PUI2015')+'/PUI2015_MMajumdar/HW4/201506-citibike-tripdata.csv')\n",
    "summer2 = pd.read_csv(os.getenv ('PUI2015')+'/PUI2015_MMajumdar/HW4/201507-citibike-tripdata.csv')\n"
   ]
  },
  {
   "cell_type": "code",
   "execution_count": 3,
   "metadata": {
    "collapsed": true
   },
   "outputs": [],
   "source": [
    "df_w=pd.concat([winter1,winter2],keys=['x','y'])\n",
    "df_s=pd.concat([summer1,summer2],keys=['x','y'])"
   ]
  },
  {
   "cell_type": "code",
   "execution_count": 4,
   "metadata": {
    "collapsed": false
   },
   "outputs": [
    {
     "data": {
      "text/plain": [
       "Index([u'tripduration', u'starttime', u'stoptime', u'start station id',\n",
       "       u'start station name', u'start station latitude',\n",
       "       u'start station longitude', u'end station id', u'end station name',\n",
       "       u'end station latitude', u'end station longitude', u'bikeid',\n",
       "       u'usertype', u'birth year', u'gender'],\n",
       "      dtype='object')"
      ]
     },
     "execution_count": 4,
     "metadata": {},
     "output_type": "execute_result"
    }
   ],
   "source": [
    "df_s.columns"
   ]
  },
  {
   "cell_type": "code",
   "execution_count": 5,
   "metadata": {
    "collapsed": false
   },
   "outputs": [],
   "source": [
    "df_w['age'] = 2015-df_w['birth year'][(df_w['usertype'] == 'Subscriber')]\n",
    "df_s['age'] = 2015-df_s['birth year'][(df_s['usertype'] == 'Subscriber')]"
   ]
  },
  {
   "cell_type": "code",
   "execution_count": 6,
   "metadata": {
    "collapsed": false
   },
   "outputs": [
    {
     "data": {
      "image/png": "[encoded data removed]",
      "text/plain": [
       "<matplotlib.figure.Figure at 0x36ddaf98>"
      ]
     },
     "metadata": {},
     "output_type": "display_data"
    },
    {
     "data": {
      "image/png": "[encoded data removed]",
      "text/plain": [
       "<matplotlib.figure.Figure at 0x36ddae48>"
      ]
     },
     "metadata": {},
     "output_type": "display_data"
    }
   ],
   "source": [
    "bins = np.arange(10, 99, 10)\n",
    "df_w.age.groupby(pd.cut(df_w.age, bins)).agg([count_nonzero]).plot(kind='bar', title=\"Winter\")\n",
    "w_age_dist = df_w.age.groupby(pd.cut(df_w.age,bins)).agg([count_nonzero])\n",
    "\n",
    "df_s.age.groupby(pd.cut(df_s.age, bins)).agg([count_nonzero]).plot(kind='bar', title=\"Summer\")\n",
    "s_age_dist = df_s.age.groupby(pd.cut(df_s.age,bins)).agg([count_nonzero])"
   ]
  },
  {
   "cell_type": "markdown",
   "metadata": {},
   "source": [
    "## Comparing to normal and poisson"
   ]
  },
  {
   "cell_type": "code",
   "execution_count": 7,
   "metadata": {
    "collapsed": false
   },
   "outputs": [
    {
     "name": "stdout",
     "output_type": "stream",
     "text": [
      "winter, normal fit (1.0, 0.0)\n",
      "summer, normal fit (1.0, 0.0)\n",
      "winter, normal fit (0.99999783543649534, 0.0)\n",
      "summer, normal fit (0.99999942773898987, 0.0)\n"
     ]
    }
   ],
   "source": [
    "#compare to normal\n",
    "\n",
    "ksW=scipy.stats.kstest(w_age_dist, 'norm')\n",
    "ksS=scipy.stats.kstest(s_age_dist, 'norm')\n",
    "print \"winter, normal fit\", ksW\n",
    "print \"summer, normal fit\", ksS\n",
    "\n",
    "#compare to poisson \n",
    "\n",
    "ksW=scipy.stats.kstest(w_age_dist, 'cauchy')\n",
    "ksS=scipy.stats.kstest(s_age_dist, 'cauchy')\n",
    "print \"winter, normal fit\", ksW\n",
    "print \"summer, normal fit\", ksS"
   ]
  },
  {
   "cell_type": "markdown",
   "metadata": {},
   "source": [
    "### TODO FOR YOU!\n",
    "\n",
    "-- repeat with the AD test, and/or any other tests you wish\n",
    "\n",
    "-- do you see differences in the sample? significant differences?\n",
    "\n",
    "-- do you dare (and this is indeed optional but could be fun) splitting the samples by up- and down-town?"
   ]
  },
  {
   "cell_type": "code",
   "execution_count": 8,
   "metadata": {
    "collapsed": false
   },
   "outputs": [
    {
     "name": "stdout",
     "output_type": "stream",
     "text": [
      "AD test for Winter on Normal fit (0.52524719226309102, array([ 0.519,  0.591,  0.709,  0.827,  0.984]), array([ 15. ,  10. ,   5. ,   2.5,   1. ]))\n",
      "\n",
      "AD test for Summer on Normal fit (0.49889609420606718, array([ 0.519,  0.591,  0.709,  0.827,  0.984]), array([ 15. ,  10. ,   5. ,   2.5,   1. ]))\n"
     ]
    }
   ],
   "source": [
    "ad_winterNormal = scipy.stats.anderson(w_age_dist['count_nonzero'],'norm')\n",
    "\n",
    "print 'AD test for Winter on Normal fit',ad_winterNormal\n",
    "\n",
    "print \"\"\n",
    "\n",
    "ad_summerNormal = scipy.stats.anderson(s_age_dist['count_nonzero'],'norm')\n",
    "print 'AD test for Summer on Normal fit',ad_summerNormal"
   ]
  },
  {
   "cell_type": "code",
   "execution_count": 9,
   "metadata": {
    "collapsed": false
   },
   "outputs": [
    {
     "name": "stdout",
     "output_type": "stream",
     "text": [
      "AD test for Winter on Logistic fit (0.55996954876989058, array([ 0.413,  0.546,  0.64 ,  0.746,  0.879,  0.979]), array([ 25. ,  10. ,   5. ,   2.5,   1. ,   0.5]))\n",
      "\n",
      "AD test for Summer on Logistic fit (0.52376780266605039, array([ 0.413,  0.546,  0.64 ,  0.746,  0.879,  0.979]), array([ 25. ,  10. ,   5. ,   2.5,   1. ,   0.5]))\n"
     ]
    }
   ],
   "source": [
    "ad_winterLogistic = scipy.stats.anderson(w_age_dist['count_nonzero'],'logistic')\n",
    "\n",
    "print 'AD test for Winter on Logistic fit',ad_winterLogistic\n",
    "\n",
    "print \"\"\n",
    "\n",
    "ad_summerLogistic = scipy.stats.anderson(s_age_dist['count_nonzero'],'logistic')\n",
    "print 'AD test for Summer on Logistic fit',ad_summerLogistic"
   ]
  },
  {
   "cell_type": "markdown",
   "metadata": {},
   "source": [
    "#### There is difference in the samples\n",
    "\n",
    "KS test for Normal model(winter) = 1.0,\n",
    "KS test for Normal model(summer) = 1.0\n",
    "\n",
    "Anderson Darling test for Normal model(winter) = 0.52524719226309102,\n",
    "Anderson Darling test for Normal model(summer) = 0.49889609420606718\n",
    "\n",
    "Anderson Darling test for Logistic model(winter) = 0.55996954876989058,\n",
    "Anderson Darling test for Logistic model(summer) = 0.52376780266605039"
   ]
  }
 ],
 "metadata": {
  "kernelspec": {
   "display_name": "Python 2",
   "language": "python",
   "name": "python2"
  },
  "language_info": {
   "codemirror_mode": {
    "name": "ipython",
    "version": 2
   },
   "file_extension": ".py",
   "mimetype": "text/x-python",
   "name": "python",
   "nbconvert_exporter": "python",
   "pygments_lexer": "ipython2",
   "version": "2.7.10"
  }
 },
 "nbformat": 4,
 "nbformat_minor": 0
}
